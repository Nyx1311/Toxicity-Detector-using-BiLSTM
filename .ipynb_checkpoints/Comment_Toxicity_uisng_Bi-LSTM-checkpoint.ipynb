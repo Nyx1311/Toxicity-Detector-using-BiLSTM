{
 "cells": [
  {
   "cell_type": "markdown",
   "id": "db57e509",
   "metadata": {},
   "source": [
    "# 1.) Install dependancies and load the data"
   ]
  },
  {
   "cell_type": "code",
   "execution_count": 14,
   "id": "cafe3362",
   "metadata": {},
   "outputs": [
    {
     "name": "stdout",
     "output_type": "stream",
     "text": [
      "Requirement already satisfied: tensorflow in c:\\users\\neelu\\onedrive\\desktop\\comment-toxicity-classifier-using-bilstm-1\\menv\\lib\\site-packages (2.19.0)\n",
      "Requirement already satisfied: pandas in c:\\users\\neelu\\onedrive\\desktop\\comment-toxicity-classifier-using-bilstm-1\\menv\\lib\\site-packages (2.3.0)\n",
      "Requirement already satisfied: matplotlib in c:\\users\\neelu\\onedrive\\desktop\\comment-toxicity-classifier-using-bilstm-1\\menv\\lib\\site-packages (3.10.3)\n",
      "Requirement already satisfied: sklearn in c:\\users\\neelu\\onedrive\\desktop\\comment-toxicity-classifier-using-bilstm-1\\menv\\lib\\site-packages (0.0)\n",
      "Requirement already satisfied: setuptools in c:\\users\\neelu\\onedrive\\desktop\\comment-toxicity-classifier-using-bilstm-1\\menv\\lib\\site-packages (from tensorflow) (57.4.0)\n",
      "Requirement already satisfied: typing-extensions>=3.6.6 in c:\\users\\neelu\\onedrive\\desktop\\comment-toxicity-classifier-using-bilstm-1\\menv\\lib\\site-packages (from tensorflow) (4.14.0)\n",
      "Requirement already satisfied: astunparse>=1.6.0 in c:\\users\\neelu\\onedrive\\desktop\\comment-toxicity-classifier-using-bilstm-1\\menv\\lib\\site-packages (from tensorflow) (1.6.3)\n",
      "Requirement already satisfied: ml-dtypes<1.0.0,>=0.5.1 in c:\\users\\neelu\\onedrive\\desktop\\comment-toxicity-classifier-using-bilstm-1\\menv\\lib\\site-packages (from tensorflow) (0.5.1)\n",
      "Requirement already satisfied: opt-einsum>=2.3.2 in c:\\users\\neelu\\onedrive\\desktop\\comment-toxicity-classifier-using-bilstm-1\\menv\\lib\\site-packages (from tensorflow) (3.4.0)\n",
      "Requirement already satisfied: flatbuffers>=24.3.25 in c:\\users\\neelu\\onedrive\\desktop\\comment-toxicity-classifier-using-bilstm-1\\menv\\lib\\site-packages (from tensorflow) (25.2.10)\n",
      "Requirement already satisfied: keras>=3.5.0 in c:\\users\\neelu\\onedrive\\desktop\\comment-toxicity-classifier-using-bilstm-1\\menv\\lib\\site-packages (from tensorflow) (3.10.0)\n",
      "Requirement already satisfied: termcolor>=1.1.0 in c:\\users\\neelu\\onedrive\\desktop\\comment-toxicity-classifier-using-bilstm-1\\menv\\lib\\site-packages (from tensorflow) (3.1.0)\n",
      "Requirement already satisfied: h5py>=3.11.0 in c:\\users\\neelu\\onedrive\\desktop\\comment-toxicity-classifier-using-bilstm-1\\menv\\lib\\site-packages (from tensorflow) (3.14.0)\n",
      "Requirement already satisfied: tensorflow-io-gcs-filesystem>=0.23.1 in c:\\users\\neelu\\onedrive\\desktop\\comment-toxicity-classifier-using-bilstm-1\\menv\\lib\\site-packages (from tensorflow) (0.31.0)\n",
      "Requirement already satisfied: google-pasta>=0.1.1 in c:\\users\\neelu\\onedrive\\desktop\\comment-toxicity-classifier-using-bilstm-1\\menv\\lib\\site-packages (from tensorflow) (0.2.0)\n",
      "Requirement already satisfied: protobuf!=4.21.0,!=4.21.1,!=4.21.2,!=4.21.3,!=4.21.4,!=4.21.5,<6.0.0dev,>=3.20.3 in c:\\users\\neelu\\onedrive\\desktop\\comment-toxicity-classifier-using-bilstm-1\\menv\\lib\\site-packages (from tensorflow) (5.29.5)\n",
      "Requirement already satisfied: wrapt>=1.11.0 in c:\\users\\neelu\\onedrive\\desktop\\comment-toxicity-classifier-using-bilstm-1\\menv\\lib\\site-packages (from tensorflow) (1.17.2)\n",
      "Requirement already satisfied: six>=1.12.0 in c:\\users\\neelu\\onedrive\\desktop\\comment-toxicity-classifier-using-bilstm-1\\menv\\lib\\site-packages (from tensorflow) (1.17.0)\n",
      "Requirement already satisfied: absl-py>=1.0.0 in c:\\users\\neelu\\onedrive\\desktop\\comment-toxicity-classifier-using-bilstm-1\\menv\\lib\\site-packages (from tensorflow) (2.3.0)\n",
      "Requirement already satisfied: requests<3,>=2.21.0 in c:\\users\\neelu\\onedrive\\desktop\\comment-toxicity-classifier-using-bilstm-1\\menv\\lib\\site-packages (from tensorflow) (2.32.4)\n",
      "Requirement already satisfied: libclang>=13.0.0 in c:\\users\\neelu\\onedrive\\desktop\\comment-toxicity-classifier-using-bilstm-1\\menv\\lib\\site-packages (from tensorflow) (18.1.1)\n",
      "Requirement already satisfied: tensorboard~=2.19.0 in c:\\users\\neelu\\onedrive\\desktop\\comment-toxicity-classifier-using-bilstm-1\\menv\\lib\\site-packages (from tensorflow) (2.19.0)\n",
      "Requirement already satisfied: grpcio<2.0,>=1.24.3 in c:\\users\\neelu\\onedrive\\desktop\\comment-toxicity-classifier-using-bilstm-1\\menv\\lib\\site-packages (from tensorflow) (1.73.1)\n",
      "Requirement already satisfied: packaging in c:\\users\\neelu\\onedrive\\desktop\\comment-toxicity-classifier-using-bilstm-1\\menv\\lib\\site-packages (from tensorflow) (25.0)\n",
      "Requirement already satisfied: numpy<2.2.0,>=1.26.0 in c:\\users\\neelu\\onedrive\\desktop\\comment-toxicity-classifier-using-bilstm-1\\menv\\lib\\site-packages (from tensorflow) (2.1.3)\n",
      "Requirement already satisfied: gast!=0.5.0,!=0.5.1,!=0.5.2,>=0.2.1 in c:\\users\\neelu\\onedrive\\desktop\\comment-toxicity-classifier-using-bilstm-1\\menv\\lib\\site-packages (from tensorflow) (0.4.0)\n",
      "Requirement already satisfied: python-dateutil>=2.8.2 in c:\\users\\neelu\\onedrive\\desktop\\comment-toxicity-classifier-using-bilstm-1\\menv\\lib\\site-packages (from pandas) (2.9.0.post0)\n",
      "Requirement already satisfied: pytz>=2020.1 in c:\\users\\neelu\\onedrive\\desktop\\comment-toxicity-classifier-using-bilstm-1\\menv\\lib\\site-packages (from pandas) (2025.2)\n",
      "Requirement already satisfied: tzdata>=2022.7 in c:\\users\\neelu\\onedrive\\desktop\\comment-toxicity-classifier-using-bilstm-1\\menv\\lib\\site-packages (from pandas) (2025.2)\n",
      "Requirement already satisfied: contourpy>=1.0.1 in c:\\users\\neelu\\onedrive\\desktop\\comment-toxicity-classifier-using-bilstm-1\\menv\\lib\\site-packages (from matplotlib) (1.3.2)\n",
      "Requirement already satisfied: cycler>=0.10 in c:\\users\\neelu\\onedrive\\desktop\\comment-toxicity-classifier-using-bilstm-1\\menv\\lib\\site-packages (from matplotlib) (0.12.1)\n",
      "Requirement already satisfied: pillow>=8 in c:\\users\\neelu\\onedrive\\desktop\\comment-toxicity-classifier-using-bilstm-1\\menv\\lib\\site-packages (from matplotlib) (11.3.0)\n",
      "Requirement already satisfied: pyparsing>=2.3.1 in c:\\users\\neelu\\onedrive\\desktop\\comment-toxicity-classifier-using-bilstm-1\\menv\\lib\\site-packages (from matplotlib) (3.2.3)\n",
      "Requirement already satisfied: kiwisolver>=1.3.1 in c:\\users\\neelu\\onedrive\\desktop\\comment-toxicity-classifier-using-bilstm-1\\menv\\lib\\site-packages (from matplotlib) (1.4.8)\n",
      "Requirement already satisfied: fonttools>=4.22.0 in c:\\users\\neelu\\onedrive\\desktop\\comment-toxicity-classifier-using-bilstm-1\\menv\\lib\\site-packages (from matplotlib) (4.58.4)\n",
      "Requirement already satisfied: scikit-learn in c:\\users\\neelu\\onedrive\\desktop\\comment-toxicity-classifier-using-bilstm-1\\menv\\lib\\site-packages (from sklearn) (1.7.0)\n",
      "Requirement already satisfied: wheel<1.0,>=0.23.0 in c:\\users\\neelu\\onedrive\\desktop\\comment-toxicity-classifier-using-bilstm-1\\menv\\lib\\site-packages (from astunparse>=1.6.0->tensorflow) (0.45.1)\n",
      "Requirement already satisfied: rich in c:\\users\\neelu\\onedrive\\desktop\\comment-toxicity-classifier-using-bilstm-1\\menv\\lib\\site-packages (from keras>=3.5.0->tensorflow) (14.0.0)\n",
      "Requirement already satisfied: namex in c:\\users\\neelu\\onedrive\\desktop\\comment-toxicity-classifier-using-bilstm-1\\menv\\lib\\site-packages (from keras>=3.5.0->tensorflow) (0.1.0)\n",
      "Requirement already satisfied: optree in c:\\users\\neelu\\onedrive\\desktop\\comment-toxicity-classifier-using-bilstm-1\\menv\\lib\\site-packages (from keras>=3.5.0->tensorflow) (0.16.0)\n",
      "Requirement already satisfied: certifi>=2017.4.17 in c:\\users\\neelu\\onedrive\\desktop\\comment-toxicity-classifier-using-bilstm-1\\menv\\lib\\site-packages (from requests<3,>=2.21.0->tensorflow) (2025.6.15)\n",
      "Requirement already satisfied: idna<4,>=2.5 in c:\\users\\neelu\\onedrive\\desktop\\comment-toxicity-classifier-using-bilstm-1\\menv\\lib\\site-packages (from requests<3,>=2.21.0->tensorflow) (3.10)\n",
      "Requirement already satisfied: charset_normalizer<4,>=2 in c:\\users\\neelu\\onedrive\\desktop\\comment-toxicity-classifier-using-bilstm-1\\menv\\lib\\site-packages (from requests<3,>=2.21.0->tensorflow) (3.4.2)\n",
      "Requirement already satisfied: urllib3<3,>=1.21.1 in c:\\users\\neelu\\onedrive\\desktop\\comment-toxicity-classifier-using-bilstm-1\\menv\\lib\\site-packages (from requests<3,>=2.21.0->tensorflow) (2.5.0)\n",
      "Requirement already satisfied: markdown>=2.6.8 in c:\\users\\neelu\\onedrive\\desktop\\comment-toxicity-classifier-using-bilstm-1\\menv\\lib\\site-packages (from tensorboard~=2.19.0->tensorflow) (3.8.2)\n",
      "Requirement already satisfied: tensorboard-data-server<0.8.0,>=0.7.0 in c:\\users\\neelu\\onedrive\\desktop\\comment-toxicity-classifier-using-bilstm-1\\menv\\lib\\site-packages (from tensorboard~=2.19.0->tensorflow) (0.7.2)\n",
      "Requirement already satisfied: werkzeug>=1.0.1 in c:\\users\\neelu\\onedrive\\desktop\\comment-toxicity-classifier-using-bilstm-1\\menv\\lib\\site-packages (from tensorboard~=2.19.0->tensorflow) (3.1.3)\n",
      "Requirement already satisfied: MarkupSafe>=2.1.1 in c:\\users\\neelu\\onedrive\\desktop\\comment-toxicity-classifier-using-bilstm-1\\menv\\lib\\site-packages (from werkzeug>=1.0.1->tensorboard~=2.19.0->tensorflow) (3.0.2)\n",
      "Requirement already satisfied: pygments<3.0.0,>=2.13.0 in c:\\users\\neelu\\onedrive\\desktop\\comment-toxicity-classifier-using-bilstm-1\\menv\\lib\\site-packages (from rich->keras>=3.5.0->tensorflow) (2.19.2)\n",
      "Requirement already satisfied: markdown-it-py>=2.2.0 in c:\\users\\neelu\\onedrive\\desktop\\comment-toxicity-classifier-using-bilstm-1\\menv\\lib\\site-packages (from rich->keras>=3.5.0->tensorflow) (3.0.0)\n",
      "Requirement already satisfied: mdurl~=0.1 in c:\\users\\neelu\\onedrive\\desktop\\comment-toxicity-classifier-using-bilstm-1\\menv\\lib\\site-packages (from markdown-it-py>=2.2.0->rich->keras>=3.5.0->tensorflow) (0.1.2)\n",
      "Requirement already satisfied: joblib>=1.2.0 in c:\\users\\neelu\\onedrive\\desktop\\comment-toxicity-classifier-using-bilstm-1\\menv\\lib\\site-packages (from scikit-learn->sklearn) (1.5.1)\n",
      "Requirement already satisfied: scipy>=1.8.0 in c:\\users\\neelu\\onedrive\\desktop\\comment-toxicity-classifier-using-bilstm-1\\menv\\lib\\site-packages (from scikit-learn->sklearn) (1.15.3)\n",
      "Requirement already satisfied: threadpoolctl>=3.1.0 in c:\\users\\neelu\\onedrive\\desktop\\comment-toxicity-classifier-using-bilstm-1\\menv\\lib\\site-packages (from scikit-learn->sklearn) (3.6.0)\n",
      "Note: you may need to restart the kernel to use updated packages.\n"
     ]
    },
    {
     "name": "stderr",
     "output_type": "stream",
     "text": [
      "WARNING: You are using pip version 21.2.3; however, version 25.1.1 is available.\n",
      "You should consider upgrading via the 'C:\\Users\\neelu\\OneDrive\\Desktop\\Comment-Toxicity-Classifier-using-BiLSTM-1\\menv\\Scripts\\python.exe -m pip install --upgrade pip' command.\n"
     ]
    }
   ],
   "source": [
    "pip install tensorflow  pandas matplotlib sklearn"
   ]
  },
  {
   "cell_type": "code",
   "execution_count": 29,
   "id": "e4fefec0-1358-42ab-b0bb-720dc56c5370",
   "metadata": {},
   "outputs": [
    {
     "name": "stdout",
     "output_type": "stream",
     "text": [
      "Requirement already satisfied: gensim in c:\\users\\neelu\\onedrive\\desktop\\comment-toxicity-classifier-using-bilstm-1\\menv\\lib\\site-packages (4.3.3)\n",
      "Requirement already satisfied: numpy<2.0,>=1.18.5 in c:\\users\\neelu\\onedrive\\desktop\\comment-toxicity-classifier-using-bilstm-1\\menv\\lib\\site-packages (from gensim) (1.26.4)\n",
      "Requirement already satisfied: scipy<1.14.0,>=1.7.0 in c:\\users\\neelu\\onedrive\\desktop\\comment-toxicity-classifier-using-bilstm-1\\menv\\lib\\site-packages (from gensim) (1.13.1)\n",
      "Requirement already satisfied: smart-open>=1.8.1 in c:\\users\\neelu\\onedrive\\desktop\\comment-toxicity-classifier-using-bilstm-1\\menv\\lib\\site-packages (from gensim) (7.3.0.post1)\n",
      "Requirement already satisfied: wrapt in c:\\users\\neelu\\onedrive\\desktop\\comment-toxicity-classifier-using-bilstm-1\\menv\\lib\\site-packages (from smart-open>=1.8.1->gensim) (1.17.2)\n",
      "Note: you may need to restart the kernel to use updated packages.\n"
     ]
    }
   ],
   "source": [
    "pip install gensim\n"
   ]
  },
  {
   "cell_type": "code",
   "execution_count": 30,
   "id": "3f7b538f-7d0d-4fc3-a655-b25c0926f042",
   "metadata": {},
   "outputs": [
    {
     "name": "stdout",
     "output_type": "stream",
     "text": [
      "Detected delimiter: ','\n",
      "                                      comment         id  toxic  severe_toxic  \\\n",
      "0    Everyone would be better off without you   gen_2313      0             1   \n",
      "1  How do you even live with yourself quickly  gen_16846      0             0   \n",
      "2     Theres no cure for how pathetic you are   gen_6106      0             1   \n",
      "3                                Keep smiling  gen_18083      0             0   \n",
      "4             Im doing this for your own good  gen_11336      0             0   \n",
      "\n",
      "   threat  insult  identity_hate  gaslight  manipulation  \n",
      "0       0       0              0         0             0  \n",
      "1       0       1              0         0             0  \n",
      "2       0       0              0         0             0  \n",
      "3       0       0              0         0             0  \n",
      "4       0       0              0         0             1  \n",
      "Index(['comment', 'id', 'toxic', 'severe_toxic', 'threat', 'insult',\n",
      "       'identity_hate', 'gaslight', 'manipulation'],\n",
      "      dtype='object')\n",
      "gaslight         3874\n",
      "insult           3889\n",
      "severe_toxic     3906\n",
      "identity_hate    3920\n",
      "threat           3926\n",
      "manipulation     3941\n",
      "toxic            4000\n",
      "dtype: int64\n"
     ]
    }
   ],
   "source": [
    "import pandas as pd\n",
    "import csv\n",
    "\n",
    "# Step 1: Read a small sample to detect delimiter\n",
    "with open(\"data_final.csv\", \"r\", encoding=\"utf-8-sig\") as f:\n",
    "    sample = f.read(1024)\n",
    "\n",
    "# Step 2: Use csv.Sniffer to detect the delimiter\n",
    "dialect = csv.Sniffer().sniff(sample)\n",
    "delimiter = dialect.delimiter\n",
    "print(f\"Detected delimiter: '{delimiter}'\")\n",
    "\n",
    "# Step 3: Load full CSV using the detected delimiter\n",
    "df = pd.read_csv(\n",
    "    'data_final.csv',\n",
    "    encoding='utf-8-sig',    # You may switch to 'ISO-8859-1' if utf-8-sig fails\n",
    "    sep=delimiter,\n",
    "    quotechar='\"',\n",
    "    on_bad_lines='skip',\n",
    "    engine='python'\n",
    ")\n",
    "\n",
    "# Step 4: Preview the dataframe\n",
    "print(df.head())\n",
    "print(df.columns)\n",
    "\n",
    "label_cols = ['toxic', 'severe_toxic', 'threat', 'insult', 'identity_hate', 'gaslight', 'manipulation']\n",
    "print(df[label_cols].sum().sort_values())\n",
    "\n",
    "\n"
   ]
  },
  {
   "cell_type": "markdown",
   "id": "486463f9",
   "metadata": {},
   "source": [
    "# 2.) Preprocess the comments\n"
   ]
  },
  {
   "cell_type": "markdown",
   "id": "9e6875d2",
   "metadata": {},
   "source": [
    "## i.) Tokenize the data using TextVecotrization API of Keras - \n",
    "\n",
    "This layer has basic options for managing text in a Keras model. It transforms\n",
    "  a batch of strings (one example = one string) into either a list of token\n",
    "  indices (one example = 1D tensor of integer token indices) or a dense\n",
    "  representation (one example = 1D tensor of float values representing data\n",
    "  about the example's tokens). This layer is meant to handle natural language\n",
    "  inputs. To handle simple string inputs (categorical strings or pre-tokenized\n",
    "  strings) see `tf.keras.layers.StringLookup`.\n",
    "\n",
    "  The vocabulary for the layer must be either supplied on construction or\n",
    "  learned via `adapt()`. When this layer is adapted, it will analyze the\n",
    "  dataset, determine the frequency of individual string values, and create a\n",
    "  vocabulary from them. This vocabulary can have unlimited size or be capped,\n",
    "  depending on the configuration options for this layer; if there are more\n",
    "  unique values in the input than the maximum vocabulary size, the most frequent\n",
    "  terms will be used to create the vocabulary.\n",
    "\n",
    "  The processing of each example contains the following steps:\n",
    "\n",
    "  1. Standardize each example (usually lowercasing + punctuation stripping)\n",
    "  2. Split each example into substrings (usually words)\n",
    "  3. Recombine substrings into tokens (usually ngrams)\n",
    "  4. Index tokens (associate a unique int value with each token)\n",
    "  5. Transform each example using this index, either into a vector of ints or\n",
    "     a dense float vector."
   ]
  },
  {
   "cell_type": "code",
   "execution_count": 1,
   "id": "052c3e7b",
   "metadata": {},
   "outputs": [
    {
     "name": "stdout",
     "output_type": "stream",
     "text": [
      "Comments shape: (21000,)\n",
      "Labels shape: (21000, 7)\n",
      "Vectorized sample: [  1   1 140   9 230]\n",
      "Vectorized text shape: (21000, 1800)\n"
     ]
    }
   ],
   "source": [
    "import pandas as pd\n",
    "import tensorflow as tf\n",
    "from tensorflow.keras.layers import TextVectorization\n",
    "import numpy as np\n",
    "from gensim.models import Word2Vec\n",
    "import re\n",
    "\n",
    "# Load the dataset\n",
    "df = pd.read_csv('data_final.csv', encoding='utf-8')\n",
    "\n",
    "# Extract features (X) and labels (Y)\n",
    "x = df['comment']\n",
    "y = df[['toxic', 'severe_toxic', 'threat', 'insult', 'identity_hate', 'gaslight', 'manipulation']].values\n",
    "\n",
    "print(\"Comments shape:\", x.shape)\n",
    "print(\"Labels shape:\", y.shape)\n",
    "\n",
    "# Preprocess comments into lists of tokens for Word2Vec training\n",
    "def preprocess_for_w2v(text):\n",
    "    text = re.sub(r\"[^a-zA-Z0-9\\s]\", \"\", text.lower())\n",
    "    return text.split()\n",
    "\n",
    "tokenized_sentences = [preprocess_for_w2v(comment) for comment in x.values]\n",
    "\n",
    "# Train Word2Vec model\n",
    "w2v_model = Word2Vec(sentences=tokenized_sentences, vector_size=100, window=5, min_count=2, workers=4)\n",
    "\n",
    "# Setup TextVectorization layer\n",
    "max_features = 200_000\n",
    "sequence_length = 1800\n",
    "\n",
    "vectorizer = TextVectorization(\n",
    "    max_tokens=max_features,\n",
    "    output_mode='int',\n",
    "    output_sequence_length=sequence_length\n",
    ")\n",
    "vectorizer.adapt(x.values)\n",
    "\n",
    "# Build embedding matrix\n",
    "vocab = vectorizer.get_vocabulary()\n",
    "word_index = dict(zip(vocab, range(len(vocab))))\n",
    "embedding_dim = 100\n",
    "embedding_matrix = np.zeros((len(vocab), embedding_dim))\n",
    "\n",
    "for word, i in word_index.items():\n",
    "    if word in w2v_model.wv:\n",
    "        embedding_matrix[i] = w2v_model.wv[word]\n",
    "\n",
    "# Test vectorizer\n",
    "example = vectorizer('Hello World, life is great')\n",
    "print(\"Vectorized sample:\", example[:5].numpy())\n",
    "\n",
    "# Apply vectorizer\n",
    "vectorized_text = vectorizer(x.values)\n",
    "print(\"Vectorized text shape:\", vectorized_text.shape)\n",
    "\n",
    "# ✅ Save these for later use in model:\n",
    "# - vectorizer\n",
    "# - embedding_matrix\n",
    "# - vocab size = len(vocab)\n",
    "# - embedding_dim = 100\n"
   ]
  },
  {
   "cell_type": "markdown",
   "id": "83c319b6",
   "metadata": {},
   "source": [
    "# 3.) Creating a tensorflow data pipeline"
   ]
  },
  {
   "cell_type": "code",
   "execution_count": 16,
   "id": "d81f4e45-a2d6-40b7-858d-87f4ad512f40",
   "metadata": {},
   "outputs": [
    {
     "name": "stdout",
     "output_type": "stream",
     "text": [
      "✅ Rows shuffled successfully. Saved as 'data_final_shuffled.csv'\n"
     ]
    }
   ],
   "source": [
    "import pandas as pd\n",
    "\n",
    "# Load your structured dataset\n",
    "df = pd.read_csv('data_final.csv')\n",
    "\n",
    "# Shuffle rows only, not columns\n",
    "df_shuffled = df.sample(frac=1, random_state=42).reset_index(drop=True)\n",
    "\n",
    "# Save shuffled version (optional)\n",
    "df_shuffled.to_csv('data_final_shuffled.csv', index=False)\n",
    "\n",
    "print(\"✅ Rows shuffled successfully. Saved as 'data_final_shuffled.csv'\")\n",
    "\n"
   ]
  },
  {
   "cell_type": "code",
   "execution_count": 18,
   "id": "3db8ba9f-737e-4fe6-9d9c-390febf93cc1",
   "metadata": {},
   "outputs": [
    {
     "name": "stdout",
     "output_type": "stream",
     "text": [
      "Requirement already satisfied: nlpaug in c:\\users\\neelu\\onedrive\\desktop\\comment-toxicity-classifier-using-bilstm-1\\menv\\lib\\site-packages (1.1.11)\n",
      "Requirement already satisfied: nltk in c:\\users\\neelu\\onedrive\\desktop\\comment-toxicity-classifier-using-bilstm-1\\menv\\lib\\site-packages (3.9.1)\n",
      "Requirement already satisfied: numpy>=1.16.2 in c:\\users\\neelu\\onedrive\\desktop\\comment-toxicity-classifier-using-bilstm-1\\menv\\lib\\site-packages (from nlpaug) (1.26.4)\n",
      "Requirement already satisfied: pandas>=1.2.0 in c:\\users\\neelu\\onedrive\\desktop\\comment-toxicity-classifier-using-bilstm-1\\menv\\lib\\site-packages (from nlpaug) (2.3.0)\n",
      "Requirement already satisfied: requests>=2.22.0 in c:\\users\\neelu\\onedrive\\desktop\\comment-toxicity-classifier-using-bilstm-1\\menv\\lib\\site-packages (from nlpaug) (2.32.4)\n",
      "Requirement already satisfied: gdown>=4.0.0 in c:\\users\\neelu\\onedrive\\desktop\\comment-toxicity-classifier-using-bilstm-1\\menv\\lib\\site-packages (from nlpaug) (5.2.0)\n",
      "Requirement already satisfied: click in c:\\users\\neelu\\onedrive\\desktop\\comment-toxicity-classifier-using-bilstm-1\\menv\\lib\\site-packages (from nltk) (8.2.1)\n",
      "Requirement already satisfied: joblib in c:\\users\\neelu\\onedrive\\desktop\\comment-toxicity-classifier-using-bilstm-1\\menv\\lib\\site-packages (from nltk) (1.5.1)\n",
      "Requirement already satisfied: regex>=2021.8.3 in c:\\users\\neelu\\onedrive\\desktop\\comment-toxicity-classifier-using-bilstm-1\\menv\\lib\\site-packages (from nltk) (2024.11.6)\n",
      "Requirement already satisfied: tqdm in c:\\users\\neelu\\onedrive\\desktop\\comment-toxicity-classifier-using-bilstm-1\\menv\\lib\\site-packages (from nltk) (4.67.1)\n",
      "Requirement already satisfied: beautifulsoup4 in c:\\users\\neelu\\onedrive\\desktop\\comment-toxicity-classifier-using-bilstm-1\\menv\\lib\\site-packages (from gdown>=4.0.0->nlpaug) (4.13.4)\n",
      "Requirement already satisfied: filelock in c:\\users\\neelu\\onedrive\\desktop\\comment-toxicity-classifier-using-bilstm-1\\menv\\lib\\site-packages (from gdown>=4.0.0->nlpaug) (3.18.0)\n",
      "Requirement already satisfied: python-dateutil>=2.8.2 in c:\\users\\neelu\\onedrive\\desktop\\comment-toxicity-classifier-using-bilstm-1\\menv\\lib\\site-packages (from pandas>=1.2.0->nlpaug) (2.9.0.post0)\n",
      "Requirement already satisfied: pytz>=2020.1 in c:\\users\\neelu\\onedrive\\desktop\\comment-toxicity-classifier-using-bilstm-1\\menv\\lib\\site-packages (from pandas>=1.2.0->nlpaug) (2025.2)\n",
      "Requirement already satisfied: tzdata>=2022.7 in c:\\users\\neelu\\onedrive\\desktop\\comment-toxicity-classifier-using-bilstm-1\\menv\\lib\\site-packages (from pandas>=1.2.0->nlpaug) (2025.2)\n",
      "Requirement already satisfied: six>=1.5 in c:\\users\\neelu\\onedrive\\desktop\\comment-toxicity-classifier-using-bilstm-1\\menv\\lib\\site-packages (from python-dateutil>=2.8.2->pandas>=1.2.0->nlpaug) (1.17.0)\n",
      "Requirement already satisfied: charset_normalizer<4,>=2 in c:\\users\\neelu\\onedrive\\desktop\\comment-toxicity-classifier-using-bilstm-1\\menv\\lib\\site-packages (from requests>=2.22.0->nlpaug) (3.4.2)\n",
      "Requirement already satisfied: idna<4,>=2.5 in c:\\users\\neelu\\onedrive\\desktop\\comment-toxicity-classifier-using-bilstm-1\\menv\\lib\\site-packages (from requests>=2.22.0->nlpaug) (3.10)\n",
      "Requirement already satisfied: urllib3<3,>=1.21.1 in c:\\users\\neelu\\onedrive\\desktop\\comment-toxicity-classifier-using-bilstm-1\\menv\\lib\\site-packages (from requests>=2.22.0->nlpaug) (2.5.0)\n",
      "Requirement already satisfied: certifi>=2017.4.17 in c:\\users\\neelu\\onedrive\\desktop\\comment-toxicity-classifier-using-bilstm-1\\menv\\lib\\site-packages (from requests>=2.22.0->nlpaug) (2025.6.15)\n",
      "Requirement already satisfied: soupsieve>1.2 in c:\\users\\neelu\\onedrive\\desktop\\comment-toxicity-classifier-using-bilstm-1\\menv\\lib\\site-packages (from beautifulsoup4->gdown>=4.0.0->nlpaug) (2.7)\n",
      "Requirement already satisfied: typing-extensions>=4.0.0 in c:\\users\\neelu\\onedrive\\desktop\\comment-toxicity-classifier-using-bilstm-1\\menv\\lib\\site-packages (from beautifulsoup4->gdown>=4.0.0->nlpaug) (4.14.0)\n",
      "Requirement already satisfied: colorama in c:\\users\\neelu\\onedrive\\desktop\\comment-toxicity-classifier-using-bilstm-1\\menv\\lib\\site-packages (from click->nltk) (0.4.6)\n",
      "Requirement already satisfied: PySocks!=1.5.7,>=1.5.6 in c:\\users\\neelu\\onedrive\\desktop\\comment-toxicity-classifier-using-bilstm-1\\menv\\lib\\site-packages (from requests[socks]->gdown>=4.0.0->nlpaug) (1.7.1)\n"
     ]
    },
    {
     "name": "stderr",
     "output_type": "stream",
     "text": [
      "[nltk_data] Downloading package averaged_perceptron_tagger to\n",
      "[nltk_data]     C:\\Users\\neelu\\AppData\\Roaming\\nltk_data...\n",
      "[nltk_data]   Package averaged_perceptron_tagger is already up-to-\n",
      "[nltk_data]       date!\n",
      "[nltk_data] Downloading package wordnet to\n",
      "[nltk_data]     C:\\Users\\neelu\\AppData\\Roaming\\nltk_data...\n",
      "[nltk_data]   Package wordnet is already up-to-date!\n",
      "[nltk_data] Downloading package omw-1.4 to\n",
      "[nltk_data]     C:\\Users\\neelu\\AppData\\Roaming\\nltk_data...\n",
      "[nltk_data]   Package omw-1.4 is already up-to-date!\n"
     ]
    },
    {
     "data": {
      "text/plain": [
       "True"
      ]
     },
     "execution_count": 18,
     "metadata": {},
     "output_type": "execute_result"
    }
   ],
   "source": [
    "!pip install nlpaug nltk\n",
    "import nltk\n",
    "nltk.download('averaged_perceptron_tagger')\n",
    "nltk.download('wordnet')\n",
    "nltk.download('omw-1.4')\n",
    "\n"
   ]
  },
  {
   "cell_type": "code",
   "execution_count": 21,
   "id": "a1394302",
   "metadata": {},
   "outputs": [
    {
     "name": "stderr",
     "output_type": "stream",
     "text": [
      "[nltk_data] Downloading package averaged_perceptron_tagger to\n",
      "[nltk_data]     C:\\Users\\neelu\\AppData\\Roaming\\nltk_data...\n",
      "[nltk_data]   Package averaged_perceptron_tagger is already up-to-\n",
      "[nltk_data]       date!\n",
      "[nltk_data] Downloading package wordnet to\n",
      "[nltk_data]     C:\\Users\\neelu\\AppData\\Roaming\\nltk_data...\n",
      "[nltk_data]   Package wordnet is already up-to-date!\n",
      "[nltk_data] Downloading package omw-1.4 to\n",
      "[nltk_data]     C:\\Users\\neelu\\AppData\\Roaming\\nltk_data...\n",
      "[nltk_data]   Package omw-1.4 is already up-to-date!\n"
     ]
    },
    {
     "name": "stdout",
     "output_type": "stream",
     "text": [
      "Train batches: 460\n",
      "Val batches: 132\n",
      "Test batches: 66\n"
     ]
    }
   ],
   "source": [
    "import nltk\n",
    "nltk.download('averaged_perceptron_tagger')\n",
    "nltk.download('wordnet')\n",
    "nltk.download('omw-1.4')\n",
    "\n",
    "import tensorflow as tf\n",
    "import nlpaug.augmenter.word as naw\n",
    "import numpy as np\n",
    "import matplotlib.pyplot as plt\n",
    "\n",
    "# ⚠️ Ensure 'x' and 'y' are defined\n",
    "# x = df['comment']\n",
    "# y = df[label_cols].values\n",
    "\n",
    "# ✅ 1. Define WordNet-based Synonym Augmenter\n",
    "augmenter = naw.SynonymAug(aug_src='wordnet')\n",
    "\n",
    "# ✅ 2. Python-based function for augmentation\n",
    "def augment_texts(text_batch):\n",
    "    return tf.convert_to_tensor(\n",
    "        [augmenter.augment(t.numpy().decode('utf-8')) for t in text_batch]\n",
    "    )\n",
    "\n",
    "# ✅ 3. Wrap with tf.py_function and fix shape\n",
    "def tf_augment_text(text_batch, label_batch):\n",
    "    aug_text = tf.py_function(augment_texts, [text_batch], Tout=tf.string)\n",
    "    aug_text.set_shape([None])  # Necessary to restore shape for vectorizer\n",
    "    return aug_text, label_batch\n",
    "\n",
    "# ✅ 4. Create original dataset\n",
    "full_dataset = tf.data.Dataset.from_tensor_slices((x.values, y))\n",
    "\n",
    "total_samples = len(x)\n",
    "train_size = int(0.7 * total_samples)\n",
    "val_size = int(0.2 * total_samples)\n",
    "\n",
    "train_raw = full_dataset.take(train_size)\n",
    "val_raw = full_dataset.skip(train_size).take(val_size)\n",
    "test_raw = full_dataset.skip(train_size + val_size)\n",
    "\n",
    "# ✅ 5. Augment + vectorize train\n",
    "train = (\n",
    "    train_raw\n",
    "    .map(tf_augment_text, num_parallel_calls=tf.data.AUTOTUNE)\n",
    "    .map(lambda x, y: (vectorizer(x), y), num_parallel_calls=tf.data.AUTOTUNE)\n",
    "    .cache()\n",
    "    .batch(32)\n",
    "    .prefetch(tf.data.AUTOTUNE)\n",
    ")\n",
    "\n",
    "# ✅ 6. Vectorize val/test without augmentation\n",
    "val = (\n",
    "    val_raw\n",
    "    .map(lambda x, y: (vectorizer(x), y), num_parallel_calls=tf.data.AUTOTUNE)\n",
    "    .cache()\n",
    "    .batch(32)\n",
    "    .prefetch(tf.data.AUTOTUNE)\n",
    ")\n",
    "\n",
    "test = (\n",
    "    test_raw\n",
    "    .map(lambda x, y: (vectorizer(x), y), num_parallel_calls=tf.data.AUTOTUNE)\n",
    "    .cache()\n",
    "    .batch(32)\n",
    "    .prefetch(tf.data.AUTOTUNE)\n",
    ")\n",
    "\n",
    "print(\"Train batches:\", len(train))\n",
    "print(\"Val batches:\", len(val))\n",
    "print(\"Test batches:\", len(test))\n",
    "\n"
   ]
  },
  {
   "cell_type": "markdown",
   "id": "33eeb9c1-48a4-4121-b994-65d683854c8c",
   "metadata": {},
   "source": [
    "4.) Building the Model\n"
   ]
  },
  {
   "cell_type": "markdown",
   "id": "f90748ca",
   "metadata": {},
   "source": [
    "Our model will aimt to learn the word embeddings(equivalent of weights in ML and is what our backprop will try to learn) - word embedding is a term used for the representation of words for text analysis, typically in the form of a real-valued vector that encodes the meaning of the word such that the words that are closer in the vector space are expected to be similar in meaning ex: the features learned could be (royalty,fruit and aggression) so each word will be transformed into a 3 vector like the word apple will be (0.1,0.8,0) and word idiot will be (0,0.1,0.8). We cant understand the feature space but can be intuituvely represented like this. So basically if the word 'stupid' after word vectorization was 268 then the word embedding learned for this will change it to [0,1,0,0.7]"
   ]
  },
  {
   "cell_type": "code",
   "execution_count": 31,
   "id": "c623c13a-0556-428d-8256-7ef3bf6707a4",
   "metadata": {},
   "outputs": [
    {
     "name": "stderr",
     "output_type": "stream",
     "text": [
      "C:\\Users\\neelu\\OneDrive\\Desktop\\Comment-Toxicity-Classifier-using-BiLSTM-1\\menv\\lib\\site-packages\\keras\\src\\layers\\core\\embedding.py:97: UserWarning: Argument `input_length` is deprecated. Just remove it.\n",
      "  warnings.warn(\n"
     ]
    },
    {
     "data": {
      "text/html": [
       "<pre style=\"white-space:pre;overflow-x:auto;line-height:normal;font-family:Menlo,'DejaVu Sans Mono',consolas,'Courier New',monospace\"><span style=\"font-weight: bold\">Model: \"sequential_3\"</span>\n",
       "</pre>\n"
      ],
      "text/plain": [
       "\u001b[1mModel: \"sequential_3\"\u001b[0m\n"
      ]
     },
     "metadata": {},
     "output_type": "display_data"
    },
    {
     "data": {
      "text/html": [
       "<pre style=\"white-space:pre;overflow-x:auto;line-height:normal;font-family:Menlo,'DejaVu Sans Mono',consolas,'Courier New',monospace\">┏━━━━━━━━━━━━━━━━━━━━━━━━━━━┳━━━━━━━━━━━━━━━━━━━━━┳━━━━━━━━━━━━┓\n",
       "┃<span style=\"font-weight: bold\"> Layer (type)              </span>┃<span style=\"font-weight: bold\"> Output Shape        </span>┃<span style=\"font-weight: bold\">    Param # </span>┃\n",
       "┡━━━━━━━━━━━━━━━━━━━━━━━━━━━╇━━━━━━━━━━━━━━━━━━━━━╇━━━━━━━━━━━━┩\n",
       "│ embedding_2 (<span style=\"color: #0087ff; text-decoration-color: #0087ff\">Embedding</span>)   │ ?                   │     <span style=\"color: #00af00; text-decoration-color: #00af00\">63,500</span> │\n",
       "├───────────────────────────┼─────────────────────┼────────────┤\n",
       "│ bidirectional_2           │ ?                   │          <span style=\"color: #00af00; text-decoration-color: #00af00\">0</span> │\n",
       "│ (<span style=\"color: #0087ff; text-decoration-color: #0087ff\">Bidirectional</span>)           │                     │  (unbuilt) │\n",
       "├───────────────────────────┼─────────────────────┼────────────┤\n",
       "│ dense_8 (<span style=\"color: #0087ff; text-decoration-color: #0087ff\">Dense</span>)           │ ?                   │          <span style=\"color: #00af00; text-decoration-color: #00af00\">0</span> │\n",
       "│                           │                     │  (unbuilt) │\n",
       "├───────────────────────────┼─────────────────────┼────────────┤\n",
       "│ dropout (<span style=\"color: #0087ff; text-decoration-color: #0087ff\">Dropout</span>)         │ ?                   │          <span style=\"color: #00af00; text-decoration-color: #00af00\">0</span> │\n",
       "├───────────────────────────┼─────────────────────┼────────────┤\n",
       "│ dense_9 (<span style=\"color: #0087ff; text-decoration-color: #0087ff\">Dense</span>)           │ ?                   │          <span style=\"color: #00af00; text-decoration-color: #00af00\">0</span> │\n",
       "│                           │                     │  (unbuilt) │\n",
       "└───────────────────────────┴─────────────────────┴────────────┘\n",
       "</pre>\n"
      ],
      "text/plain": [
       "┏━━━━━━━━━━━━━━━━━━━━━━━━━━━┳━━━━━━━━━━━━━━━━━━━━━┳━━━━━━━━━━━━┓\n",
       "┃\u001b[1m \u001b[0m\u001b[1mLayer (type)             \u001b[0m\u001b[1m \u001b[0m┃\u001b[1m \u001b[0m\u001b[1mOutput Shape       \u001b[0m\u001b[1m \u001b[0m┃\u001b[1m \u001b[0m\u001b[1m   Param #\u001b[0m\u001b[1m \u001b[0m┃\n",
       "┡━━━━━━━━━━━━━━━━━━━━━━━━━━━╇━━━━━━━━━━━━━━━━━━━━━╇━━━━━━━━━━━━┩\n",
       "│ embedding_2 (\u001b[38;5;33mEmbedding\u001b[0m)   │ ?                   │     \u001b[38;5;34m63,500\u001b[0m │\n",
       "├───────────────────────────┼─────────────────────┼────────────┤\n",
       "│ bidirectional_2           │ ?                   │          \u001b[38;5;34m0\u001b[0m │\n",
       "│ (\u001b[38;5;33mBidirectional\u001b[0m)           │                     │  (unbuilt) │\n",
       "├───────────────────────────┼─────────────────────┼────────────┤\n",
       "│ dense_8 (\u001b[38;5;33mDense\u001b[0m)           │ ?                   │          \u001b[38;5;34m0\u001b[0m │\n",
       "│                           │                     │  (unbuilt) │\n",
       "├───────────────────────────┼─────────────────────┼────────────┤\n",
       "│ dropout (\u001b[38;5;33mDropout\u001b[0m)         │ ?                   │          \u001b[38;5;34m0\u001b[0m │\n",
       "├───────────────────────────┼─────────────────────┼────────────┤\n",
       "│ dense_9 (\u001b[38;5;33mDense\u001b[0m)           │ ?                   │          \u001b[38;5;34m0\u001b[0m │\n",
       "│                           │                     │  (unbuilt) │\n",
       "└───────────────────────────┴─────────────────────┴────────────┘\n"
      ]
     },
     "metadata": {},
     "output_type": "display_data"
    },
    {
     "data": {
      "text/html": [
       "<pre style=\"white-space:pre;overflow-x:auto;line-height:normal;font-family:Menlo,'DejaVu Sans Mono',consolas,'Courier New',monospace\"><span style=\"font-weight: bold\"> Total params: </span><span style=\"color: #00af00; text-decoration-color: #00af00\">63,500</span> (248.05 KB)\n",
       "</pre>\n"
      ],
      "text/plain": [
       "\u001b[1m Total params: \u001b[0m\u001b[38;5;34m63,500\u001b[0m (248.05 KB)\n"
      ]
     },
     "metadata": {},
     "output_type": "display_data"
    },
    {
     "data": {
      "text/html": [
       "<pre style=\"white-space:pre;overflow-x:auto;line-height:normal;font-family:Menlo,'DejaVu Sans Mono',consolas,'Courier New',monospace\"><span style=\"font-weight: bold\"> Trainable params: </span><span style=\"color: #00af00; text-decoration-color: #00af00\">0</span> (0.00 B)\n",
       "</pre>\n"
      ],
      "text/plain": [
       "\u001b[1m Trainable params: \u001b[0m\u001b[38;5;34m0\u001b[0m (0.00 B)\n"
      ]
     },
     "metadata": {},
     "output_type": "display_data"
    },
    {
     "data": {
      "text/html": [
       "<pre style=\"white-space:pre;overflow-x:auto;line-height:normal;font-family:Menlo,'DejaVu Sans Mono',consolas,'Courier New',monospace\"><span style=\"font-weight: bold\"> Non-trainable params: </span><span style=\"color: #00af00; text-decoration-color: #00af00\">63,500</span> (248.05 KB)\n",
       "</pre>\n"
      ],
      "text/plain": [
       "\u001b[1m Non-trainable params: \u001b[0m\u001b[38;5;34m63,500\u001b[0m (248.05 KB)\n"
      ]
     },
     "metadata": {},
     "output_type": "display_data"
    },
    {
     "name": "stdout",
     "output_type": "stream",
     "text": [
      "GPU Available: []\n",
      "Epoch 1/30\n",
      "\u001b[1m657/657\u001b[0m \u001b[32m━━━━━━━━━━━━━━━━━━━━\u001b[0m\u001b[37m\u001b[0m \u001b[1m0s\u001b[0m 2s/step - accuracy: 0.4722 - loss: 0.4531"
     ]
    },
    {
     "name": "stderr",
     "output_type": "stream",
     "text": [
      "WARNING:absl:You are saving your model as an HDF5 file via `model.save()` or `keras.saving.save_model(model)`. This file format is considered legacy. We recommend using instead the native Keras format, e.g. `model.save('my_model.keras')` or `keras.saving.save_model(model, 'my_model.keras')`. \n"
     ]
    },
    {
     "name": "stdout",
     "output_type": "stream",
     "text": [
      "\u001b[1m657/657\u001b[0m \u001b[32m━━━━━━━━━━━━━━━━━━━━\u001b[0m\u001b[37m\u001b[0m \u001b[1m1068s\u001b[0m 2s/step - accuracy: 0.4724 - loss: 0.4530 - val_accuracy: 0.6831 - val_loss: 0.2547\n",
      "Epoch 2/30\n",
      "\u001b[1m657/657\u001b[0m \u001b[32m━━━━━━━━━━━━━━━━━━━━\u001b[0m\u001b[37m\u001b[0m \u001b[1m0s\u001b[0m 990ms/step - accuracy: 0.6796 - loss: 0.2670"
     ]
    },
    {
     "name": "stderr",
     "output_type": "stream",
     "text": [
      "WARNING:absl:You are saving your model as an HDF5 file via `model.save()` or `keras.saving.save_model(model)`. This file format is considered legacy. We recommend using instead the native Keras format, e.g. `model.save('my_model.keras')` or `keras.saving.save_model(model, 'my_model.keras')`. \n"
     ]
    },
    {
     "name": "stdout",
     "output_type": "stream",
     "text": [
      "\u001b[1m657/657\u001b[0m \u001b[32m━━━━━━━━━━━━━━━━━━━━\u001b[0m\u001b[37m\u001b[0m \u001b[1m746s\u001b[0m 1s/step - accuracy: 0.6796 - loss: 0.2669 - val_accuracy: 0.6831 - val_loss: 0.2351\n",
      "Epoch 3/30\n",
      "\u001b[1m657/657\u001b[0m \u001b[32m━━━━━━━━━━━━━━━━━━━━\u001b[0m\u001b[37m\u001b[0m \u001b[1m0s\u001b[0m 1s/step - accuracy: 0.6813 - loss: 0.2500"
     ]
    },
    {
     "name": "stderr",
     "output_type": "stream",
     "text": [
      "WARNING:absl:You are saving your model as an HDF5 file via `model.save()` or `keras.saving.save_model(model)`. This file format is considered legacy. We recommend using instead the native Keras format, e.g. `model.save('my_model.keras')` or `keras.saving.save_model(model, 'my_model.keras')`. \n"
     ]
    },
    {
     "name": "stdout",
     "output_type": "stream",
     "text": [
      "\u001b[1m657/657\u001b[0m \u001b[32m━━━━━━━━━━━━━━━━━━━━\u001b[0m\u001b[37m\u001b[0m \u001b[1m757s\u001b[0m 1s/step - accuracy: 0.6813 - loss: 0.2500 - val_accuracy: 0.6836 - val_loss: 0.2286\n",
      "Epoch 4/30\n",
      "\u001b[1m657/657\u001b[0m \u001b[32m━━━━━━━━━━━━━━━━━━━━\u001b[0m\u001b[37m\u001b[0m \u001b[1m0s\u001b[0m 1s/step - accuracy: 0.6815 - loss: 0.2435"
     ]
    },
    {
     "name": "stderr",
     "output_type": "stream",
     "text": [
      "WARNING:absl:You are saving your model as an HDF5 file via `model.save()` or `keras.saving.save_model(model)`. This file format is considered legacy. We recommend using instead the native Keras format, e.g. `model.save('my_model.keras')` or `keras.saving.save_model(model, 'my_model.keras')`. \n"
     ]
    },
    {
     "name": "stdout",
     "output_type": "stream",
     "text": [
      "\u001b[1m657/657\u001b[0m \u001b[32m━━━━━━━━━━━━━━━━━━━━\u001b[0m\u001b[37m\u001b[0m \u001b[1m770s\u001b[0m 1s/step - accuracy: 0.6815 - loss: 0.2435 - val_accuracy: 0.6898 - val_loss: 0.2252\n",
      "Epoch 5/30\n",
      "\u001b[1m657/657\u001b[0m \u001b[32m━━━━━━━━━━━━━━━━━━━━\u001b[0m\u001b[37m\u001b[0m \u001b[1m0s\u001b[0m 1s/step - accuracy: 0.6827 - loss: 0.2407"
     ]
    },
    {
     "name": "stderr",
     "output_type": "stream",
     "text": [
      "WARNING:absl:You are saving your model as an HDF5 file via `model.save()` or `keras.saving.save_model(model)`. This file format is considered legacy. We recommend using instead the native Keras format, e.g. `model.save('my_model.keras')` or `keras.saving.save_model(model, 'my_model.keras')`. \n"
     ]
    },
    {
     "name": "stdout",
     "output_type": "stream",
     "text": [
      "\u001b[1m657/657\u001b[0m \u001b[32m━━━━━━━━━━━━━━━━━━━━\u001b[0m\u001b[37m\u001b[0m \u001b[1m771s\u001b[0m 1s/step - accuracy: 0.6827 - loss: 0.2407 - val_accuracy: 0.6836 - val_loss: 0.2237\n",
      "Epoch 6/30\n",
      "\u001b[1m657/657\u001b[0m \u001b[32m━━━━━━━━━━━━━━━━━━━━\u001b[0m\u001b[37m\u001b[0m \u001b[1m0s\u001b[0m 1s/step - accuracy: 0.6824 - loss: 0.2374"
     ]
    },
    {
     "name": "stderr",
     "output_type": "stream",
     "text": [
      "WARNING:absl:You are saving your model as an HDF5 file via `model.save()` or `keras.saving.save_model(model)`. This file format is considered legacy. We recommend using instead the native Keras format, e.g. `model.save('my_model.keras')` or `keras.saving.save_model(model, 'my_model.keras')`. \n"
     ]
    },
    {
     "name": "stdout",
     "output_type": "stream",
     "text": [
      "\u001b[1m657/657\u001b[0m \u001b[32m━━━━━━━━━━━━━━━━━━━━\u001b[0m\u001b[37m\u001b[0m \u001b[1m802s\u001b[0m 1s/step - accuracy: 0.6824 - loss: 0.2374 - val_accuracy: 0.6836 - val_loss: 0.2223\n",
      "Epoch 7/30\n",
      "\u001b[1m657/657\u001b[0m \u001b[32m━━━━━━━━━━━━━━━━━━━━\u001b[0m\u001b[37m\u001b[0m \u001b[1m0s\u001b[0m 1s/step - accuracy: 0.6823 - loss: 0.2358"
     ]
    },
    {
     "name": "stderr",
     "output_type": "stream",
     "text": [
      "WARNING:absl:You are saving your model as an HDF5 file via `model.save()` or `keras.saving.save_model(model)`. This file format is considered legacy. We recommend using instead the native Keras format, e.g. `model.save('my_model.keras')` or `keras.saving.save_model(model, 'my_model.keras')`. \n"
     ]
    },
    {
     "name": "stdout",
     "output_type": "stream",
     "text": [
      "\u001b[1m657/657\u001b[0m \u001b[32m━━━━━━━━━━━━━━━━━━━━\u001b[0m\u001b[37m\u001b[0m \u001b[1m807s\u001b[0m 1s/step - accuracy: 0.6823 - loss: 0.2358 - val_accuracy: 0.6898 - val_loss: 0.2213\n",
      "Epoch 8/30\n",
      "\u001b[1m657/657\u001b[0m \u001b[32m━━━━━━━━━━━━━━━━━━━━\u001b[0m\u001b[37m\u001b[0m \u001b[1m0s\u001b[0m 1s/step - accuracy: 0.6869 - loss: 0.2346"
     ]
    },
    {
     "name": "stderr",
     "output_type": "stream",
     "text": [
      "WARNING:absl:You are saving your model as an HDF5 file via `model.save()` or `keras.saving.save_model(model)`. This file format is considered legacy. We recommend using instead the native Keras format, e.g. `model.save('my_model.keras')` or `keras.saving.save_model(model, 'my_model.keras')`. \n"
     ]
    },
    {
     "name": "stdout",
     "output_type": "stream",
     "text": [
      "\u001b[1m657/657\u001b[0m \u001b[32m━━━━━━━━━━━━━━━━━━━━\u001b[0m\u001b[37m\u001b[0m \u001b[1m875s\u001b[0m 1s/step - accuracy: 0.6869 - loss: 0.2346 - val_accuracy: 0.6769 - val_loss: 0.2210\n",
      "Epoch 9/30\n",
      "\u001b[1m657/657\u001b[0m \u001b[32m━━━━━━━━━━━━━━━━━━━━\u001b[0m\u001b[37m\u001b[0m \u001b[1m0s\u001b[0m 1s/step - accuracy: 0.6872 - loss: 0.2333"
     ]
    },
    {
     "name": "stderr",
     "output_type": "stream",
     "text": [
      "WARNING:absl:You are saving your model as an HDF5 file via `model.save()` or `keras.saving.save_model(model)`. This file format is considered legacy. We recommend using instead the native Keras format, e.g. `model.save('my_model.keras')` or `keras.saving.save_model(model, 'my_model.keras')`. \n"
     ]
    },
    {
     "name": "stdout",
     "output_type": "stream",
     "text": [
      "\u001b[1m657/657\u001b[0m \u001b[32m━━━━━━━━━━━━━━━━━━━━\u001b[0m\u001b[37m\u001b[0m \u001b[1m846s\u001b[0m 1s/step - accuracy: 0.6872 - loss: 0.2333 - val_accuracy: 0.6895 - val_loss: 0.2201\n",
      "Epoch 10/30\n",
      "\u001b[1m657/657\u001b[0m \u001b[32m━━━━━━━━━━━━━━━━━━━━\u001b[0m\u001b[37m\u001b[0m \u001b[1m0s\u001b[0m 1s/step - accuracy: 0.6889 - loss: 0.2319"
     ]
    },
    {
     "name": "stderr",
     "output_type": "stream",
     "text": [
      "WARNING:absl:You are saving your model as an HDF5 file via `model.save()` or `keras.saving.save_model(model)`. This file format is considered legacy. We recommend using instead the native Keras format, e.g. `model.save('my_model.keras')` or `keras.saving.save_model(model, 'my_model.keras')`. \n"
     ]
    },
    {
     "name": "stdout",
     "output_type": "stream",
     "text": [
      "\u001b[1m657/657\u001b[0m \u001b[32m━━━━━━━━━━━━━━━━━━━━\u001b[0m\u001b[37m\u001b[0m \u001b[1m864s\u001b[0m 1s/step - accuracy: 0.6889 - loss: 0.2319 - val_accuracy: 0.6957 - val_loss: 0.2198\n",
      "Epoch 11/30\n",
      "\u001b[1m657/657\u001b[0m \u001b[32m━━━━━━━━━━━━━━━━━━━━\u001b[0m\u001b[37m\u001b[0m \u001b[1m0s\u001b[0m 1s/step - accuracy: 0.6879 - loss: 0.2316"
     ]
    },
    {
     "name": "stderr",
     "output_type": "stream",
     "text": [
      "WARNING:absl:You are saving your model as an HDF5 file via `model.save()` or `keras.saving.save_model(model)`. This file format is considered legacy. We recommend using instead the native Keras format, e.g. `model.save('my_model.keras')` or `keras.saving.save_model(model, 'my_model.keras')`. \n"
     ]
    },
    {
     "name": "stdout",
     "output_type": "stream",
     "text": [
      "\u001b[1m657/657\u001b[0m \u001b[32m━━━━━━━━━━━━━━━━━━━━\u001b[0m\u001b[37m\u001b[0m \u001b[1m830s\u001b[0m 1s/step - accuracy: 0.6879 - loss: 0.2316 - val_accuracy: 0.6957 - val_loss: 0.2191\n",
      "Epoch 12/30\n",
      "\u001b[1m657/657\u001b[0m \u001b[32m━━━━━━━━━━━━━━━━━━━━\u001b[0m\u001b[37m\u001b[0m \u001b[1m0s\u001b[0m 1s/step - accuracy: 0.6907 - loss: 0.2305"
     ]
    },
    {
     "name": "stderr",
     "output_type": "stream",
     "text": [
      "WARNING:absl:You are saving your model as an HDF5 file via `model.save()` or `keras.saving.save_model(model)`. This file format is considered legacy. We recommend using instead the native Keras format, e.g. `model.save('my_model.keras')` or `keras.saving.save_model(model, 'my_model.keras')`. \n"
     ]
    },
    {
     "name": "stdout",
     "output_type": "stream",
     "text": [
      "\u001b[1m657/657\u001b[0m \u001b[32m━━━━━━━━━━━━━━━━━━━━\u001b[0m\u001b[37m\u001b[0m \u001b[1m869s\u001b[0m 1s/step - accuracy: 0.6907 - loss: 0.2305 - val_accuracy: 0.6836 - val_loss: 0.2195\n",
      "Epoch 13/30\n",
      "\u001b[1m657/657\u001b[0m \u001b[32m━━━━━━━━━━━━━━━━━━━━\u001b[0m\u001b[37m\u001b[0m \u001b[1m0s\u001b[0m 1s/step - accuracy: 0.6870 - loss: 0.2308"
     ]
    },
    {
     "name": "stderr",
     "output_type": "stream",
     "text": [
      "WARNING:absl:You are saving your model as an HDF5 file via `model.save()` or `keras.saving.save_model(model)`. This file format is considered legacy. We recommend using instead the native Keras format, e.g. `model.save('my_model.keras')` or `keras.saving.save_model(model, 'my_model.keras')`. \n"
     ]
    },
    {
     "name": "stdout",
     "output_type": "stream",
     "text": [
      "\u001b[1m657/657\u001b[0m \u001b[32m━━━━━━━━━━━━━━━━━━━━\u001b[0m\u001b[37m\u001b[0m \u001b[1m905s\u001b[0m 1s/step - accuracy: 0.6870 - loss: 0.2308 - val_accuracy: 0.6769 - val_loss: 0.2188\n",
      "Epoch 14/30\n",
      "\u001b[1m657/657\u001b[0m \u001b[32m━━━━━━━━━━━━━━━━━━━━\u001b[0m\u001b[37m\u001b[0m \u001b[1m0s\u001b[0m 1s/step - accuracy: 0.6890 - loss: 0.2296"
     ]
    },
    {
     "name": "stderr",
     "output_type": "stream",
     "text": [
      "WARNING:absl:You are saving your model as an HDF5 file via `model.save()` or `keras.saving.save_model(model)`. This file format is considered legacy. We recommend using instead the native Keras format, e.g. `model.save('my_model.keras')` or `keras.saving.save_model(model, 'my_model.keras')`. \n"
     ]
    },
    {
     "name": "stdout",
     "output_type": "stream",
     "text": [
      "\u001b[1m657/657\u001b[0m \u001b[32m━━━━━━━━━━━━━━━━━━━━\u001b[0m\u001b[37m\u001b[0m \u001b[1m860s\u001b[0m 1s/step - accuracy: 0.6890 - loss: 0.2296 - val_accuracy: 0.6769 - val_loss: 0.2194\n",
      "Epoch 15/30\n",
      "\u001b[1m657/657\u001b[0m \u001b[32m━━━━━━━━━━━━━━━━━━━━\u001b[0m\u001b[37m\u001b[0m \u001b[1m0s\u001b[0m 1s/step - accuracy: 0.6882 - loss: 0.2294"
     ]
    },
    {
     "name": "stderr",
     "output_type": "stream",
     "text": [
      "WARNING:absl:You are saving your model as an HDF5 file via `model.save()` or `keras.saving.save_model(model)`. This file format is considered legacy. We recommend using instead the native Keras format, e.g. `model.save('my_model.keras')` or `keras.saving.save_model(model, 'my_model.keras')`. \n"
     ]
    },
    {
     "name": "stdout",
     "output_type": "stream",
     "text": [
      "\u001b[1m657/657\u001b[0m \u001b[32m━━━━━━━━━━━━━━━━━━━━\u001b[0m\u001b[37m\u001b[0m \u001b[1m890s\u001b[0m 1s/step - accuracy: 0.6882 - loss: 0.2294 - val_accuracy: 0.6769 - val_loss: 0.2180\n",
      "Epoch 16/30\n",
      "\u001b[1m657/657\u001b[0m \u001b[32m━━━━━━━━━━━━━━━━━━━━\u001b[0m\u001b[37m\u001b[0m \u001b[1m0s\u001b[0m 1s/step - accuracy: 0.6863 - loss: 0.2287"
     ]
    },
    {
     "name": "stderr",
     "output_type": "stream",
     "text": [
      "WARNING:absl:You are saving your model as an HDF5 file via `model.save()` or `keras.saving.save_model(model)`. This file format is considered legacy. We recommend using instead the native Keras format, e.g. `model.save('my_model.keras')` or `keras.saving.save_model(model, 'my_model.keras')`. \n"
     ]
    },
    {
     "name": "stdout",
     "output_type": "stream",
     "text": [
      "\u001b[1m657/657\u001b[0m \u001b[32m━━━━━━━━━━━━━━━━━━━━\u001b[0m\u001b[37m\u001b[0m \u001b[1m908s\u001b[0m 1s/step - accuracy: 0.6863 - loss: 0.2287 - val_accuracy: 0.6957 - val_loss: 0.2177\n",
      "Epoch 17/30\n",
      "\u001b[1m657/657\u001b[0m \u001b[32m━━━━━━━━━━━━━━━━━━━━\u001b[0m\u001b[37m\u001b[0m \u001b[1m0s\u001b[0m 1s/step - accuracy: 0.6904 - loss: 0.2282"
     ]
    },
    {
     "name": "stderr",
     "output_type": "stream",
     "text": [
      "WARNING:absl:You are saving your model as an HDF5 file via `model.save()` or `keras.saving.save_model(model)`. This file format is considered legacy. We recommend using instead the native Keras format, e.g. `model.save('my_model.keras')` or `keras.saving.save_model(model, 'my_model.keras')`. \n"
     ]
    },
    {
     "name": "stdout",
     "output_type": "stream",
     "text": [
      "\u001b[1m657/657\u001b[0m \u001b[32m━━━━━━━━━━━━━━━━━━━━\u001b[0m\u001b[37m\u001b[0m \u001b[1m922s\u001b[0m 1s/step - accuracy: 0.6905 - loss: 0.2282 - val_accuracy: 0.6769 - val_loss: 0.2182\n",
      "Epoch 18/30\n",
      "\u001b[1m657/657\u001b[0m \u001b[32m━━━━━━━━━━━━━━━━━━━━\u001b[0m\u001b[37m\u001b[0m \u001b[1m0s\u001b[0m 1s/step - accuracy: 0.6902 - loss: 0.2272"
     ]
    },
    {
     "name": "stderr",
     "output_type": "stream",
     "text": [
      "WARNING:absl:You are saving your model as an HDF5 file via `model.save()` or `keras.saving.save_model(model)`. This file format is considered legacy. We recommend using instead the native Keras format, e.g. `model.save('my_model.keras')` or `keras.saving.save_model(model, 'my_model.keras')`. \n"
     ]
    },
    {
     "name": "stdout",
     "output_type": "stream",
     "text": [
      "\u001b[1m657/657\u001b[0m \u001b[32m━━━━━━━━━━━━━━━━━━━━\u001b[0m\u001b[37m\u001b[0m \u001b[1m934s\u001b[0m 1s/step - accuracy: 0.6902 - loss: 0.2272 - val_accuracy: 0.6702 - val_loss: 0.2183\n",
      "Epoch 19/30\n",
      "\u001b[1m657/657\u001b[0m \u001b[32m━━━━━━━━━━━━━━━━━━━━\u001b[0m\u001b[37m\u001b[0m \u001b[1m0s\u001b[0m 1s/step - accuracy: 0.6837 - loss: 0.2278"
     ]
    },
    {
     "name": "stderr",
     "output_type": "stream",
     "text": [
      "WARNING:absl:You are saving your model as an HDF5 file via `model.save()` or `keras.saving.save_model(model)`. This file format is considered legacy. We recommend using instead the native Keras format, e.g. `model.save('my_model.keras')` or `keras.saving.save_model(model, 'my_model.keras')`. \n"
     ]
    },
    {
     "name": "stdout",
     "output_type": "stream",
     "text": [
      "\u001b[1m657/657\u001b[0m \u001b[32m━━━━━━━━━━━━━━━━━━━━\u001b[0m\u001b[37m\u001b[0m \u001b[1m880s\u001b[0m 1s/step - accuracy: 0.6836 - loss: 0.2278 - val_accuracy: 0.6702 - val_loss: 0.2177\n",
      "Epoch 20/30\n",
      "\u001b[1m657/657\u001b[0m \u001b[32m━━━━━━━━━━━━━━━━━━━━\u001b[0m\u001b[37m\u001b[0m \u001b[1m0s\u001b[0m 1s/step - accuracy: 0.6844 - loss: 0.2267"
     ]
    },
    {
     "name": "stderr",
     "output_type": "stream",
     "text": [
      "WARNING:absl:You are saving your model as an HDF5 file via `model.save()` or `keras.saving.save_model(model)`. This file format is considered legacy. We recommend using instead the native Keras format, e.g. `model.save('my_model.keras')` or `keras.saving.save_model(model, 'my_model.keras')`. \n"
     ]
    },
    {
     "name": "stdout",
     "output_type": "stream",
     "text": [
      "\u001b[1m657/657\u001b[0m \u001b[32m━━━━━━━━━━━━━━━━━━━━\u001b[0m\u001b[37m\u001b[0m \u001b[1m880s\u001b[0m 1s/step - accuracy: 0.6844 - loss: 0.2267 - val_accuracy: 0.6762 - val_loss: 0.2174\n",
      "Epoch 21/30\n",
      "\u001b[1m657/657\u001b[0m \u001b[32m━━━━━━━━━━━━━━━━━━━━\u001b[0m\u001b[37m\u001b[0m \u001b[1m0s\u001b[0m 1s/step - accuracy: 0.6810 - loss: 0.2271"
     ]
    },
    {
     "name": "stderr",
     "output_type": "stream",
     "text": [
      "WARNING:absl:You are saving your model as an HDF5 file via `model.save()` or `keras.saving.save_model(model)`. This file format is considered legacy. We recommend using instead the native Keras format, e.g. `model.save('my_model.keras')` or `keras.saving.save_model(model, 'my_model.keras')`. \n"
     ]
    },
    {
     "name": "stdout",
     "output_type": "stream",
     "text": [
      "\u001b[1m657/657\u001b[0m \u001b[32m━━━━━━━━━━━━━━━━━━━━\u001b[0m\u001b[37m\u001b[0m \u001b[1m892s\u001b[0m 1s/step - accuracy: 0.6810 - loss: 0.2271 - val_accuracy: 0.6769 - val_loss: 0.2172\n",
      "Epoch 22/30\n",
      "\u001b[1m657/657\u001b[0m \u001b[32m━━━━━━━━━━━━━━━━━━━━\u001b[0m\u001b[37m\u001b[0m \u001b[1m0s\u001b[0m 1s/step - accuracy: 0.6782 - loss: 0.2262"
     ]
    },
    {
     "name": "stderr",
     "output_type": "stream",
     "text": [
      "WARNING:absl:You are saving your model as an HDF5 file via `model.save()` or `keras.saving.save_model(model)`. This file format is considered legacy. We recommend using instead the native Keras format, e.g. `model.save('my_model.keras')` or `keras.saving.save_model(model, 'my_model.keras')`. \n"
     ]
    },
    {
     "name": "stdout",
     "output_type": "stream",
     "text": [
      "\u001b[1m657/657\u001b[0m \u001b[32m━━━━━━━━━━━━━━━━━━━━\u001b[0m\u001b[37m\u001b[0m \u001b[1m912s\u001b[0m 1s/step - accuracy: 0.6782 - loss: 0.2262 - val_accuracy: 0.6702 - val_loss: 0.2185\n",
      "Epoch 23/30\n",
      "\u001b[1m657/657\u001b[0m \u001b[32m━━━━━━━━━━━━━━━━━━━━\u001b[0m\u001b[37m\u001b[0m \u001b[1m0s\u001b[0m 1s/step - accuracy: 0.6764 - loss: 0.2262"
     ]
    },
    {
     "name": "stderr",
     "output_type": "stream",
     "text": [
      "WARNING:absl:You are saving your model as an HDF5 file via `model.save()` or `keras.saving.save_model(model)`. This file format is considered legacy. We recommend using instead the native Keras format, e.g. `model.save('my_model.keras')` or `keras.saving.save_model(model, 'my_model.keras')`. \n"
     ]
    },
    {
     "name": "stdout",
     "output_type": "stream",
     "text": [
      "\u001b[1m657/657\u001b[0m \u001b[32m━━━━━━━━━━━━━━━━━━━━\u001b[0m\u001b[37m\u001b[0m \u001b[1m923s\u001b[0m 1s/step - accuracy: 0.6764 - loss: 0.2262 - val_accuracy: 0.6702 - val_loss: 0.2174\n",
      "Epoch 24/30\n",
      "\u001b[1m657/657\u001b[0m \u001b[32m━━━━━━━━━━━━━━━━━━━━\u001b[0m\u001b[37m\u001b[0m \u001b[1m0s\u001b[0m 1s/step - accuracy: 0.6775 - loss: 0.2258"
     ]
    },
    {
     "name": "stderr",
     "output_type": "stream",
     "text": [
      "WARNING:absl:You are saving your model as an HDF5 file via `model.save()` or `keras.saving.save_model(model)`. This file format is considered legacy. We recommend using instead the native Keras format, e.g. `model.save('my_model.keras')` or `keras.saving.save_model(model, 'my_model.keras')`. \n"
     ]
    },
    {
     "name": "stdout",
     "output_type": "stream",
     "text": [
      "\u001b[1m657/657\u001b[0m \u001b[32m━━━━━━━━━━━━━━━━━━━━\u001b[0m\u001b[37m\u001b[0m \u001b[1m1022s\u001b[0m 1s/step - accuracy: 0.6775 - loss: 0.2258 - val_accuracy: 0.6829 - val_loss: 0.2171\n",
      "Epoch 25/30\n",
      "\u001b[1m657/657\u001b[0m \u001b[32m━━━━━━━━━━━━━━━━━━━━\u001b[0m\u001b[37m\u001b[0m \u001b[1m0s\u001b[0m 1s/step - accuracy: 0.6807 - loss: 0.2254"
     ]
    },
    {
     "name": "stderr",
     "output_type": "stream",
     "text": [
      "WARNING:absl:You are saving your model as an HDF5 file via `model.save()` or `keras.saving.save_model(model)`. This file format is considered legacy. We recommend using instead the native Keras format, e.g. `model.save('my_model.keras')` or `keras.saving.save_model(model, 'my_model.keras')`. \n"
     ]
    },
    {
     "name": "stdout",
     "output_type": "stream",
     "text": [
      "\u001b[1m657/657\u001b[0m \u001b[32m━━━━━━━━━━━━━━━━━━━━\u001b[0m\u001b[37m\u001b[0m \u001b[1m965s\u001b[0m 1s/step - accuracy: 0.6807 - loss: 0.2254 - val_accuracy: 0.6769 - val_loss: 0.2174\n",
      "Epoch 26/30\n",
      "\u001b[1m657/657\u001b[0m \u001b[32m━━━━━━━━━━━━━━━━━━━━\u001b[0m\u001b[37m\u001b[0m \u001b[1m0s\u001b[0m 1s/step - accuracy: 0.6782 - loss: 0.2247"
     ]
    },
    {
     "name": "stderr",
     "output_type": "stream",
     "text": [
      "WARNING:absl:You are saving your model as an HDF5 file via `model.save()` or `keras.saving.save_model(model)`. This file format is considered legacy. We recommend using instead the native Keras format, e.g. `model.save('my_model.keras')` or `keras.saving.save_model(model, 'my_model.keras')`. \n"
     ]
    },
    {
     "name": "stdout",
     "output_type": "stream",
     "text": [
      "\u001b[1m657/657\u001b[0m \u001b[32m━━━━━━━━━━━━━━━━━━━━\u001b[0m\u001b[37m\u001b[0m \u001b[1m929s\u001b[0m 1s/step - accuracy: 0.6782 - loss: 0.2247 - val_accuracy: 0.6979 - val_loss: 0.2189\n",
      "Epoch 27/30\n",
      "\u001b[1m657/657\u001b[0m \u001b[32m━━━━━━━━━━━━━━━━━━━━\u001b[0m\u001b[37m\u001b[0m \u001b[1m0s\u001b[0m 1s/step - accuracy: 0.6827 - loss: 0.2248"
     ]
    },
    {
     "name": "stderr",
     "output_type": "stream",
     "text": [
      "WARNING:absl:You are saving your model as an HDF5 file via `model.save()` or `keras.saving.save_model(model)`. This file format is considered legacy. We recommend using instead the native Keras format, e.g. `model.save('my_model.keras')` or `keras.saving.save_model(model, 'my_model.keras')`. \n"
     ]
    },
    {
     "name": "stdout",
     "output_type": "stream",
     "text": [
      "\u001b[1m657/657\u001b[0m \u001b[32m━━━━━━━━━━━━━━━━━━━━\u001b[0m\u001b[37m\u001b[0m \u001b[1m942s\u001b[0m 1s/step - accuracy: 0.6827 - loss: 0.2248 - val_accuracy: 0.6829 - val_loss: 0.2168\n",
      "Epoch 28/30\n",
      "\u001b[1m657/657\u001b[0m \u001b[32m━━━━━━━━━━━━━━━━━━━━\u001b[0m\u001b[37m\u001b[0m \u001b[1m0s\u001b[0m 1s/step - accuracy: 0.6870 - loss: 0.2241"
     ]
    },
    {
     "name": "stderr",
     "output_type": "stream",
     "text": [
      "WARNING:absl:You are saving your model as an HDF5 file via `model.save()` or `keras.saving.save_model(model)`. This file format is considered legacy. We recommend using instead the native Keras format, e.g. `model.save('my_model.keras')` or `keras.saving.save_model(model, 'my_model.keras')`. \n"
     ]
    },
    {
     "name": "stdout",
     "output_type": "stream",
     "text": [
      "\u001b[1m657/657\u001b[0m \u001b[32m━━━━━━━━━━━━━━━━━━━━\u001b[0m\u001b[37m\u001b[0m \u001b[1m956s\u001b[0m 1s/step - accuracy: 0.6870 - loss: 0.2241 - val_accuracy: 0.6890 - val_loss: 0.2169\n",
      "Epoch 29/30\n",
      "\u001b[1m657/657\u001b[0m \u001b[32m━━━━━━━━━━━━━━━━━━━━\u001b[0m\u001b[37m\u001b[0m \u001b[1m0s\u001b[0m 1s/step - accuracy: 0.6965 - loss: 0.2244"
     ]
    },
    {
     "name": "stderr",
     "output_type": "stream",
     "text": [
      "WARNING:absl:You are saving your model as an HDF5 file via `model.save()` or `keras.saving.save_model(model)`. This file format is considered legacy. We recommend using instead the native Keras format, e.g. `model.save('my_model.keras')` or `keras.saving.save_model(model, 'my_model.keras')`. \n"
     ]
    },
    {
     "name": "stdout",
     "output_type": "stream",
     "text": [
      "\u001b[1m657/657\u001b[0m \u001b[32m━━━━━━━━━━━━━━━━━━━━\u001b[0m\u001b[37m\u001b[0m \u001b[1m945s\u001b[0m 1s/step - accuracy: 0.6965 - loss: 0.2244 - val_accuracy: 0.6883 - val_loss: 0.2165\n",
      "Epoch 30/30\n",
      "\u001b[1m657/657\u001b[0m \u001b[32m━━━━━━━━━━━━━━━━━━━━\u001b[0m\u001b[37m\u001b[0m \u001b[1m0s\u001b[0m 1s/step - accuracy: 0.6910 - loss: 0.2241"
     ]
    },
    {
     "name": "stderr",
     "output_type": "stream",
     "text": [
      "WARNING:absl:You are saving your model as an HDF5 file via `model.save()` or `keras.saving.save_model(model)`. This file format is considered legacy. We recommend using instead the native Keras format, e.g. `model.save('my_model.keras')` or `keras.saving.save_model(model, 'my_model.keras')`. \n"
     ]
    },
    {
     "name": "stdout",
     "output_type": "stream",
     "text": [
      "\u001b[1m657/657\u001b[0m \u001b[32m━━━━━━━━━━━━━━━━━━━━\u001b[0m\u001b[37m\u001b[0m \u001b[1m956s\u001b[0m 1s/step - accuracy: 0.6909 - loss: 0.2241 - val_accuracy: 0.6769 - val_loss: 0.2164\n"
     ]
    }
   ],
   "source": [
    "from tensorflow.keras.models import Sequential\n",
    "from tensorflow.keras.layers import Embedding, Bidirectional, LSTM, Dense, Dropout\n",
    "from tensorflow.keras.losses import BinaryCrossentropy\n",
    "from tensorflow.keras.optimizers import Adam\n",
    "from tensorflow.keras.callbacks import ModelCheckpoint\n",
    "from tensorflow.keras.regularizers import l2\n",
    "import tensorflow as tf\n",
    "import nlpaug.augmenter.word as naw\n",
    "import pandas as pd\n",
    "import numpy as np\n",
    "\n",
    "# ----------------------------\n",
    "# ✅ 1. Parameters and Setup\n",
    "# ----------------------------\n",
    "maxlen = 1800\n",
    "embedding_dim = 300\n",
    "batch_size = 32\n",
    "\n",
    "# ✅ Load original training dataset\n",
    "train_df = pd.read_csv('data_final.csv')  # Replace with correct file path if needed\n",
    "\n",
    "# ✅ Define label columns\n",
    "label_columns = ['toxic', 'severe_toxic', 'threat', 'insult',\n",
    "                 'identity_hate', 'gaslight', 'manipulation']\n",
    "\n",
    "# ----------------------------\n",
    "# ✅ 2. Apply Synonym Augmentation (Training Only)\n",
    "# ----------------------------\n",
    "augmenter = naw.SynonymAug(aug_src='wordnet', aug_min=1, aug_max=5)\n",
    "\n",
    "augmented_texts = []\n",
    "augmented_labels = []\n",
    "\n",
    "for i, row in train_df.iterrows():\n",
    "    try:\n",
    "        augmented = augmenter.augment(row['comment'])\n",
    "        augmented_texts.append(augmented)\n",
    "        augmented_labels.append(row[label_columns].values)\n",
    "    except Exception:\n",
    "        continue\n",
    "\n",
    "# ✅ Create DataFrame from augmented data\n",
    "augmented_df = pd.DataFrame({'comment': augmented_texts})\n",
    "for i, col in enumerate(label_columns):\n",
    "    augmented_df[col] = [label[i] for label in augmented_labels]\n",
    "\n",
    "# ✅ Combine original + augmented and shuffle\n",
    "combined_df = pd.concat([train_df, augmented_df], ignore_index=True).sample(frac=1).reset_index(drop=True)\n",
    "\n",
    "# ----------------------------\n",
    "# ✅ 3. Text Vectorization\n",
    "# ----------------------------\n",
    "# Note: Ensure `embedding_matrix` is already defined before this step\n",
    "vectorizer = tf.keras.layers.TextVectorization(\n",
    "    max_tokens=embedding_matrix.shape[0],\n",
    "    output_sequence_length=maxlen\n",
    ")\n",
    "vectorizer.adapt(combined_df['comment'].values)\n",
    "\n",
    "# ----------------------------\n",
    "# ✅ 4. Prepare tf.data.Dataset\n",
    "# ----------------------------\n",
    "X_combined = vectorizer(combined_df['comment'].values)\n",
    "y_combined = combined_df[label_columns].values.astype('float32')\n",
    "\n",
    "train = tf.data.Dataset.from_tensor_slices((X_combined, y_combined)).batch(batch_size).prefetch(tf.data.AUTOTUNE)\n",
    "\n",
    "# ✅ val remains unchanged (must be defined elsewhere)\n",
    "# val = ...\n",
    "\n",
    "# ----------------------------\n",
    "# ✅ 5. Build BiLSTM Model with Regularization\n",
    "# ----------------------------\n",
    "model = Sequential()\n",
    "model.add(Embedding(\n",
    "    input_dim=embedding_matrix.shape[0],\n",
    "    output_dim=embedding_matrix.shape[1],\n",
    "    weights=[embedding_matrix],\n",
    "    input_length=maxlen,\n",
    "    trainable=False\n",
    "))\n",
    "model.add(Bidirectional(LSTM(64, return_sequences=False)))\n",
    "model.add(Dense(64, activation='relu', kernel_regularizer=l2(0.001)))\n",
    "model.add(Dropout(0.3))\n",
    "model.add(Dense(7, activation='sigmoid'))\n",
    "\n",
    "model.compile(\n",
    "    loss=BinaryCrossentropy(),\n",
    "    optimizer=Adam(),\n",
    "    metrics=['accuracy']\n",
    ")\n",
    "\n",
    "model.summary()\n",
    "\n",
    "# ----------------------------\n",
    "# ✅ 6. Check for GPU\n",
    "# ----------------------------\n",
    "print(\"GPU Available:\", tf.config.list_physical_devices('GPU'))\n",
    "\n",
    "# ----------------------------\n",
    "# ✅ 7. Save Model Checkpoints\n",
    "# ----------------------------\n",
    "checkpoint_cb = ModelCheckpoint(\n",
    "    filepath='model_epoch_{epoch:02d}.h5',\n",
    "    save_freq='epoch',\n",
    "    save_weights_only=False\n",
    ")\n",
    "\n",
    "# ----------------------------\n",
    "# ✅ 8. Train the Model (Keep Visible!)\n",
    "# ----------------------------\n",
    "history = model.fit(\n",
    "    train,\n",
    "    validation_data=val,\n",
    "    epochs=30,\n",
    "    callbacks=[checkpoint_cb]\n",
    ")\n"
   ]
  },
  {
   "cell_type": "code",
   "execution_count": 32,
   "id": "1b160604-2e67-45bd-8c1e-5595505ae26d",
   "metadata": {},
   "outputs": [
    {
     "data": {
      "image/png": "[encoded data removed]",
      "text/plain": [
       "<Figure size 640x480 with 1 Axes>"
      ]
     },
     "metadata": {},
     "output_type": "display_data"
    },
    {
     "data": {
      "image/png": "[encoded data removed]",
      "text/plain": [
       "<Figure size 640x480 with 1 Axes>"
      ]
     },
     "metadata": {},
     "output_type": "display_data"
    }
   ],
   "source": [
    "import matplotlib.pyplot as plt\n",
    "plt.plot(history.history['val_accuracy'], label='Val Accuracy')\n",
    "plt.plot(history.history['accuracy'], label='Train Accuracy')\n",
    "plt.title('Accuracy over Epochs')\n",
    "plt.legend()\n",
    "plt.grid(True)\n",
    "plt.show()\n",
    "\n",
    "plt.plot(history.history['loss'], label='Training Loss')\n",
    "plt.plot(history.history['val_loss'], label='Validation Loss')\n",
    "plt.title('Loss Over Epochs')\n",
    "plt.xlabel('Epoch')\n",
    "plt.ylabel('Loss')\n",
    "plt.legend()\n",
    "plt.grid(True)\n",
    "plt.show()\n"
   ]
  },
  {
   "cell_type": "markdown",
   "id": "702d9f75",
   "metadata": {},
   "source": [
    "# 5.) Making Predictions"
   ]
  },
  {
   "cell_type": "code",
   "execution_count": 33,
   "id": "925551e4",
   "metadata": {},
   "outputs": [
    {
     "name": "stdout",
     "output_type": "stream",
     "text": [
      "\u001b[1m1/1\u001b[0m \u001b[32m━━━━━━━━━━━━━━━━━━━━\u001b[0m\u001b[37m\u001b[0m \u001b[1m1s\u001b[0m 684ms/step\n",
      "\n",
      "Prediction for: 'You freaking suck!'\n",
      "toxic: 0.0009\n",
      "severe_toxic: 0.0008\n",
      "threat: 0.0007\n",
      "insult: 0.0016\n",
      "identity_hate: 0.0013\n",
      "gaslight: 0.0010\n",
      "manipulation: 0.0008\n",
      "\u001b[1m1/1\u001b[0m \u001b[32m━━━━━━━━━━━━━━━━━━━━\u001b[0m\u001b[37m\u001b[0m \u001b[1m0s\u001b[0m 171ms/step\n",
      "\n",
      "Prediction for: 'I am going to kill and punch you to death'\n",
      "toxic: 0.1118\n",
      "severe_toxic: 0.9096\n",
      "threat: 0.0906\n",
      "insult: 0.0920\n",
      "identity_hate: 0.0940\n",
      "gaslight: 0.0896\n",
      "manipulation: 0.9151\n"
     ]
    }
   ],
   "source": [
    "import numpy as np\n",
    "import tensorflow as tf\n",
    "\n",
    "# ✅ Label names used during training\n",
    "label_cols = ['toxic', 'severe_toxic', 'threat', 'insult',\n",
    "              'identity_hate', 'gaslight', 'manipulation']\n",
    "\n",
    "# ✅ Sample 1: mild toxicity\n",
    "input_text1 = vectorizer('You freaking suck!')\n",
    "input_text1 = tf.expand_dims(input_text1, axis=0)  # Add batch dimension\n",
    "res1 = model.predict(input_text1)\n",
    "print(\"\\nPrediction for: 'You freaking suck!'\")\n",
    "for i, score in enumerate(res1[0]):\n",
    "    print(f\"{label_cols[i]}: {score:.4f}\")\n",
    "\n",
    "# ✅ Sample 2: high-threat\n",
    "input_text2 = vectorizer('I am going to kill and punch you to death')\n",
    "input_text2 = tf.expand_dims(input_text2, axis=0)\n",
    "res2 = model.predict(input_text2)\n",
    "print(\"\\nPrediction for: 'I am going to kill and punch you to death'\")\n",
    "for i, score in enumerate(res2[0]):\n",
    "    print(f\"{label_cols[i]}: {score:.4f}\")\n"
   ]
  },
  {
   "cell_type": "markdown",
   "id": "961e249b",
   "metadata": {},
   "source": [
    "# 6.) Evaluating the model"
   ]
  },
  {
   "cell_type": "code",
   "execution_count": 35,
   "id": "6850e20a",
   "metadata": {},
   "outputs": [
    {
     "name": "stderr",
     "output_type": "stream",
     "text": [
      "WARNING:absl:Compiled the loaded model, but the compiled metrics have yet to be built. `model.compile_metrics` will be empty until you train or evaluate the model.\n"
     ]
    },
    {
     "name": "stdout",
     "output_type": "stream",
     "text": [
      "⚙️ Running predictions on full dataset...\n",
      "\u001b[1m657/657\u001b[0m \u001b[32m━━━━━━━━━━━━━━━━━━━━\u001b[0m\u001b[37m\u001b[0m \u001b[1m248s\u001b[0m 377ms/step\n",
      "\n",
      "📊 Overall Evaluation Metrics:\n",
      "Precision (macro): 1.0000\n",
      "Recall    (macro): 0.6556\n",
      "F1 Score  (macro): 0.7919\n",
      "\n",
      "🔍 Per-Label Metrics:\n",
      "               precision    recall  f1-score   support\n",
      "\n",
      "        toxic       1.00      0.64      0.78      4000\n",
      " severe_toxic       1.00      0.66      0.79      3906\n",
      "       threat       1.00      0.66      0.79      3926\n",
      "       insult       1.00      0.66      0.80      3889\n",
      "identity_hate       1.00      0.66      0.79      3920\n",
      "     gaslight       1.00      0.66      0.80      3874\n",
      " manipulation       1.00      0.65      0.79      3941\n",
      "\n",
      "    micro avg       1.00      0.66      0.79     27456\n",
      "    macro avg       1.00      0.66      0.79     27456\n",
      " weighted avg       1.00      0.66      0.79     27456\n",
      "  samples avg       0.86      0.67      0.73     27456\n",
      "\n"
     ]
    }
   ],
   "source": [
    "import numpy as np\n",
    "import pandas as pd\n",
    "import tensorflow as tf\n",
    "from sklearn.metrics import classification_report, precision_score, recall_score, f1_score\n",
    "from tensorflow.keras.layers import TextVectorization\n",
    "\n",
    "# ----------------------------\n",
    "# ✅ 1. Load Trained Model\n",
    "# ----------------------------\n",
    "model = tf.keras.models.load_model('model_epoch_30.h5')\n",
    "\n",
    "# ----------------------------\n",
    "# ✅ 2. Load Evaluation Data\n",
    "# ----------------------------\n",
    "df = pd.read_csv('data_final.csv')\n",
    "label_cols = ['toxic', 'severe_toxic', 'threat', 'insult', 'identity_hate', 'gaslight', 'manipulation']\n",
    "text_data = df['comment']\n",
    "y_true = df[label_cols].values.astype('int')\n",
    "\n",
    "# ----------------------------\n",
    "# ✅ 3. Vectorize Text (matching training settings)\n",
    "# ----------------------------\n",
    "vectorizer = TextVectorization(\n",
    "    max_tokens=200_000,\n",
    "    output_sequence_length=1800,\n",
    "    output_mode='int'\n",
    ")\n",
    "vectorizer.adapt(text_data.values)\n",
    "X = vectorizer(text_data.values)\n",
    "\n",
    "# ----------------------------\n",
    "# ✅ 4. Set Custom Thresholds Per Label\n",
    "# ----------------------------\n",
    "thresholds_dict = {\n",
    "    'toxic': 0.38,\n",
    "    'severe_toxic': 0.42,\n",
    "    'threat': 0.42,\n",
    "    'insult': 0.40,\n",
    "    'identity_hate': 0.44,\n",
    "    'gaslight': 0.40,\n",
    "    'manipulation': 0.36\n",
    "}\n",
    "thresholds = np.array([thresholds_dict[label] for label in label_cols])\n",
    "\n",
    "# ----------------------------\n",
    "#. Run Predictions\n",
    "# ----------------------------\n",
    "print(\"⚙️ Running predictions on full dataset...\")\n",
    "y_probs = model.predict(X, batch_size=32, verbose=1)\n",
    "y_pred = (y_probs >= thresholds[np.newaxis, :]).astype(int)\n",
    "\n",
    "# ----------------------------\n",
    " 6. Evaluate Performance\n",
    "# ----------------------------\n",
    "print(\"\\n📊 Overall Evaluation Metrics:\")\n",
    "print(f\"Precision (macro): {precision_score(y_true, y_pred, average='macro', zero_division=0):.4f}\")\n",
    "print(f\"Recall    (macro): {recall_score(y_true, y_pred, average='macro', zero_division=0):.4f}\")\n",
    "print(f\"F1 Score  (macro): {f1_score(y_true, y_pred, average='macro', zero_division=0):.4f}\")\n",
    "\n",
    "print(\"\\n🔍 Per-Label Metrics:\")\n",
    "print(classification_report(y_true, y_pred, target_names=label_cols, zero_division=0))\n",
    "\n"
   ]
  },
  {
   "cell_type": "code",
   "execution_count": 36,
   "id": "97bc4ffc",
   "metadata": {},
   "outputs": [
    {
     "data": {
      "image/png": "[encoded data removed]",
      "text/plain": [
       "<Figure size 640x480 with 1 Axes>"
      ]
     },
     "metadata": {},
     "output_type": "display_data"
    }
   ],
   "source": [
    "import matplotlib.pyplot as plt\n",
    "\n",
    "# Flatten all probabilities into one list for visualization\n",
    "plt.hist(y_probs.flatten(), bins=100)\n",
    "plt.title(\"Distribution of Predicted Probabilities\")\n",
    "plt.xlabel(\"Probability\")\n",
    "plt.ylabel(\"Frequency\")\n",
    "plt.grid(True)\n",
    "plt.show()\n"
   ]
  },
  {
   "cell_type": "code",
   "execution_count": null,
   "id": "72c6ce77-fd8a-4248-b14c-dde5534e8b4a",
   "metadata": {},
   "outputs": [],
   "source": []
  },
  {
   "cell_type": "code",
   "execution_count": null,
   "id": "dfff9989-b646-4711-b5e6-e9100e0eb14a",
   "metadata": {},
   "outputs": [],
   "source": []
  }
 ],
 "metadata": {
  "kernelspec": {
   "display_name": "Python 3 (ipykernel)",
   "language": "python",
   "name": "python3"
  },
  "language_info": {
   "codemirror_mode": {
    "name": "ipython",
    "version": 3
   },
   "file_extension": ".py",
   "mimetype": "text/x-python",
   "name": "python",
   "nbconvert_exporter": "python",
   "pygments_lexer": "ipython3",
   "version": "3.10.0"
  }
 },
 "nbformat": 4,
 "nbformat_minor": 5
}
